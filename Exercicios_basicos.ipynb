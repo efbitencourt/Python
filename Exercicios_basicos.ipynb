{
  "nbformat": 4,
  "nbformat_minor": 0,
  "metadata": {
    "colab": {
      "provenance": []
    },
    "kernelspec": {
      "name": "python3",
      "display_name": "Python 3"
    },
    "language_info": {
      "name": "python"
    }
  },
  "cells": [
    {
      "cell_type": "code",
      "execution_count": null,
      "metadata": {
        "id": "5M8rqv1K77UX"
      },
      "outputs": [],
      "source": [
        "def ficha1():\n",
        "  nome = input(\"Nome: \")\n",
        "  idade = input(\"Idade: \")\n",
        "  altura = input(\"Altura: \")\n",
        "  print(f'Olá, seu nome é {nome}, você tem {idade} anos e mede {altura} metros')"
      ]
    },
    {
      "cell_type": "code",
      "source": [
        "ficha1()"
      ],
      "metadata": {
        "colab": {
          "base_uri": "https://localhost:8080/"
        },
        "id": "rQpXAugA8h7K",
        "outputId": "346902f1-434b-4f6a-ca55-36b937bb8918"
      },
      "execution_count": null,
      "outputs": [
        {
          "output_type": "stream",
          "name": "stdout",
          "text": [
            "Nome: Eric\n",
            "Idade: 35\n",
            "Altura: 1.77\n",
            "Olá, seu nome é Eric, você tem 35 anos e mede 1.77 metros\n"
          ]
        }
      ]
    },
    {
      "cell_type": "code",
      "source": [
        "def calculadora():\n",
        "  calculo = input(\"Digite sua opção de cálculo (1 - soma, 2 - subtração, 3 - multiplicação, 4 - divisão): \")\n",
        "  num1 = int(input(\"Primeiro número: \"))\n",
        "  num2 = int(input(\"Segundo número: \"))\n",
        "  if calculo == '1':\n",
        "    soma = num1 + num2\n",
        "    print(\"A soma é: \",soma)\n",
        "  elif calculo == '2':\n",
        "    sub = num1 - num2\n",
        "    print(\"A diferença é: \",sub)\n",
        "  elif calculo == '3':\n",
        "    mult = num1 * num2\n",
        "    print(\"A multiplicação é: \",mult)\n",
        "  elif calculo == '4':\n",
        "    divs = num1 / num2\n",
        "    print(\"A divisão é: \",divs)\n",
        "  else:\n",
        "    print(\"Número inválido\")"
      ],
      "metadata": {
        "id": "Iw-XWA098mfB"
      },
      "execution_count": null,
      "outputs": []
    },
    {
      "cell_type": "code",
      "source": [
        "calculadora()"
      ],
      "metadata": {
        "colab": {
          "base_uri": "https://localhost:8080/"
        },
        "id": "dslZ_-rl-Zy1",
        "outputId": "6d614582-7f1d-4e9a-e416-16be262f95fe"
      },
      "execution_count": null,
      "outputs": [
        {
          "output_type": "stream",
          "name": "stdout",
          "text": [
            "Digite sua opção de cálculo (1 - soma, 2 - subtração, 3 - multiplicação, 4 - divisão): 5\n",
            "Primeiro número: 2\n",
            "Segundo número: 2\n",
            "Número inválido\n"
          ]
        }
      ]
    },
    {
      "cell_type": "code",
      "source": [
        "num1 = float(input('Digite um número: '))\n",
        "num2 = float(input('Digite outro número: '))\n",
        "if num1 > num2:\n",
        "  print(num1)\n",
        "elif num1 < num2:\n",
        "  print(num2)\n",
        "else:\n",
        "  print('Os números são iguais')\n"
      ],
      "metadata": {
        "id": "a2AqGFzi-bTN",
        "colab": {
          "base_uri": "https://localhost:8080/"
        },
        "outputId": "b72fe8ce-0e53-4b1f-9e6f-7080470bc730"
      },
      "execution_count": null,
      "outputs": [
        {
          "output_type": "stream",
          "name": "stdout",
          "text": [
            "Digite um número: 6\n",
            "Digite outro número: 5\n",
            "6.0\n"
          ]
        }
      ]
    },
    {
      "cell_type": "code",
      "source": [
        "alfabeto_vogal = ['a','e','i','o','u']\n",
        "letra = input(\"Digite uma letra: \")\n",
        "if letra in alfabeto_vogal:\n",
        "  print(\"É vogal\")\n",
        "else:\n",
        "  print(\"Não é vogal\")"
      ],
      "metadata": {
        "colab": {
          "base_uri": "https://localhost:8080/"
        },
        "id": "61E-lMLOn7Ns",
        "outputId": "e880af22-4152-4971-d453-e079c39a0cd7"
      },
      "execution_count": null,
      "outputs": [
        {
          "output_type": "stream",
          "name": "stdout",
          "text": [
            "Digite uma letra: b\n",
            "Não é vogal\n"
          ]
        }
      ]
    },
    {
      "cell_type": "code",
      "source": [
        "alfabeto_vogal"
      ],
      "metadata": {
        "colab": {
          "base_uri": "https://localhost:8080/"
        },
        "id": "hYWdntInoN5q",
        "outputId": "832e8049-6933-467c-feda-486c05920958"
      },
      "execution_count": null,
      "outputs": [
        {
          "output_type": "execute_result",
          "data": {
            "text/plain": [
              "['a', 'e', 'i', 'o', 'u']"
            ]
          },
          "metadata": {},
          "execution_count": 7
        }
      ]
    },
    {
      "cell_type": "code",
      "source": [
        "vendas22 = float(input('Vendas em 2022: '))\n",
        "vendas23 = float(input('Vendas em 2023: '))\n",
        "calc = ((vendas23 - vendas22)/vendas22) * 100\n",
        "if calc >= 20:\n",
        "  print('Bonificação para o time de vendas')\n",
        "elif 2 <= calc < 20:\n",
        "  print('Pequena bonificação')\n",
        "elif -10 <= calc < 2:\n",
        "  print('Planejamento de políticas de incentivo às vendas')\n",
        "else:\n",
        "  print('Corte de gastos')"
      ],
      "metadata": {
        "id": "TBb_xgScoQfh",
        "colab": {
          "base_uri": "https://localhost:8080/"
        },
        "outputId": "ddf8e472-5be2-4a72-c159-22f810be2038"
      },
      "execution_count": null,
      "outputs": [
        {
          "output_type": "stream",
          "name": "stdout",
          "text": [
            "Vendas em 2022: 10\n",
            "Vendas em 2023: 10\n",
            "Planejamento de políticas de incentivo às vendas\n"
          ]
        }
      ]
    },
    {
      "cell_type": "code",
      "source": [
        "num1 = int(input('Digite um número: '))\n",
        "num2 = int(input('Digite outro número: '))\n",
        "for i in range(num1+1,num2):\n",
        "  print(i)"
      ],
      "metadata": {
        "id": "NlJ8GZLNao2q",
        "colab": {
          "base_uri": "https://localhost:8080/"
        },
        "outputId": "cce7a43f-d1cc-4a3c-bb63-099f90613556"
      },
      "execution_count": null,
      "outputs": [
        {
          "output_type": "stream",
          "name": "stdout",
          "text": [
            "Digite um número: 1\n",
            "Digite outro número: 3\n",
            "2\n"
          ]
        }
      ]
    },
    {
      "cell_type": "code",
      "source": [
        "num_tab = int(input('Digite um número para a tabuada: '))\n",
        "print(f'Tabuada do {num_tab}')\n",
        "for i in range (1,11):\n",
        "  print(f'{num_tab} X {i} = {num_tab * i}')\n"
      ],
      "metadata": {
        "colab": {
          "base_uri": "https://localhost:8080/"
        },
        "id": "bMH5jZF5i953",
        "outputId": "3a43e786-eacb-45a0-bd77-0189eae421fe"
      },
      "execution_count": null,
      "outputs": [
        {
          "output_type": "stream",
          "name": "stdout",
          "text": [
            "Digite um número para a tabuada: 2\n",
            "Tabuada do 2\n",
            "2 X 1 = 2\n",
            "2 X 2 = 4\n",
            "2 X 3 = 6\n",
            "2 X 4 = 8\n",
            "2 X 5 = 10\n",
            "2 X 6 = 12\n",
            "2 X 7 = 14\n",
            "2 X 8 = 16\n",
            "2 X 9 = 18\n",
            "2 X 10 = 20\n"
          ]
        }
      ]
    },
    {
      "cell_type": "code",
      "source": [
        "dicionario = {'Área Norte': [2819, 7236],\n",
        " 'Área Leste': [1440, 9492],\n",
        " 'Área Sul': [5969, 7496],\n",
        " 'Área Oeste': [14446, 49688],\n",
        " 'Área Centro': [22558, 45148]}"
      ],
      "metadata": {
        "id": "Zv7cPbEqu37A"
      },
      "execution_count": null,
      "outputs": []
    },
    {
      "cell_type": "code",
      "source": [
        "lista_gastos = [2172.54, 3701.35, 3518.09, 3456.61, 3249.38, 2840.82, 3891.45, 3075.26, 2317.64, 3219.08]\n",
        "lista_gastos"
      ],
      "metadata": {
        "id": "az8W1VFivCyl",
        "colab": {
          "base_uri": "https://localhost:8080/"
        },
        "outputId": "62a93e99-37b3-466e-d45b-e299e448902a"
      },
      "execution_count": null,
      "outputs": [
        {
          "output_type": "execute_result",
          "data": {
            "text/plain": [
              "[2172.54,\n",
              " 3701.35,\n",
              " 3518.09,\n",
              " 3456.61,\n",
              " 3249.38,\n",
              " 2840.82,\n",
              " 3891.45,\n",
              " 3075.26,\n",
              " 2317.64,\n",
              " 3219.08]"
            ]
          },
          "metadata": {},
          "execution_count": 1
        }
      ]
    },
    {
      "cell_type": "code",
      "source": [
        "Media = sum(lista_gastos)/len(lista_gastos)\n",
        "Media"
      ],
      "metadata": {
        "colab": {
          "base_uri": "https://localhost:8080/"
        },
        "id": "lvHCQzmSSQDS",
        "outputId": "653e2388-66b0-4f4e-90b7-dba05ba8b970"
      },
      "execution_count": null,
      "outputs": [
        {
          "output_type": "execute_result",
          "data": {
            "text/plain": [
              "3144.222"
            ]
          },
          "metadata": {},
          "execution_count": 2
        }
      ]
    },
    {
      "cell_type": "code",
      "source": [
        "lista_5 = list(input('Digite 5 números: '))\n",
        "if len(lista_5) == 5:\n",
        " print(lista_5)\n",
        "else:\n",
        " print('É pra digitar 5 números!')"
      ],
      "metadata": {
        "colab": {
          "base_uri": "https://localhost:8080/"
        },
        "id": "sHCFbNruSkpf",
        "outputId": "8f1d5897-3634-42c1-9f3e-bb2340eee737"
      },
      "execution_count": null,
      "outputs": [
        {
          "output_type": "stream",
          "name": "stdout",
          "text": [
            "Digite 5 números: 87kiu\n",
            "['8', '7', 'k', 'i', 'u']\n"
          ]
        }
      ]
    },
    {
      "cell_type": "code",
      "source": [
        "def valida_data():\n",
        "  data_dia = input('Informe um dia(dd): ')\n",
        "  if len(data_dia) != 2:\n",
        "    print('Insira um dia válido')\n",
        "  else:\n",
        "    data_mes = input('Informe um mês(mm): ')\n",
        "    if len(data_mes) != 2:\n",
        "      print('Insira um mês válido')\n",
        "    else:\n",
        "      data_ano = input('Informe um ano(aaaa): ')\n",
        "      if len(data_ano) != 4:\n",
        "        print(\"Insira um ano válido\")\n",
        "      else:\n",
        "        print(f'{data_dia}/{data_mes}/{data_ano}')"
      ],
      "metadata": {
        "id": "zieTnYgvS5vf"
      },
      "execution_count": null,
      "outputs": []
    },
    {
      "cell_type": "code",
      "source": [
        "valida_data()"
      ],
      "metadata": {
        "colab": {
          "base_uri": "https://localhost:8080/"
        },
        "id": "1QDjFA5rT2YM",
        "outputId": "8827f2a3-2766-41e2-aa17-b0d8df824491"
      },
      "execution_count": null,
      "outputs": [
        {
          "output_type": "stream",
          "name": "stdout",
          "text": [
            "Informe um dia(dd): 12\n",
            "Informe um mês(mm): 12\n",
            "Informe um ano(aaaa): 2005\n",
            "12/12/2005\n"
          ]
        }
      ]
    },
    {
      "cell_type": "code",
      "source": [
        "lista_bact = [1.2, 2.1, 3.3, 5.0, 7.8, 11.3, 16.6, 25.1, 37.8, 56.9]\n",
        "lista_cresc_bact = [lista_bact]"
      ],
      "metadata": {
        "id": "YZ1tJ7vgXHg3"
      },
      "execution_count": null,
      "outputs": []
    },
    {
      "cell_type": "code",
      "source": [
        "lista_bact\n"
      ],
      "metadata": {
        "colab": {
          "base_uri": "https://localhost:8080/"
        },
        "id": "JiBo81-5cFh0",
        "outputId": "febd8961-7c94-4885-ff6e-b187ea2f8e8c"
      },
      "execution_count": null,
      "outputs": [
        {
          "output_type": "execute_result",
          "data": {
            "text/plain": [
              "[1.2, 2.1, 3.3, 5.0, 7.8, 11.3, 16.6, 25.1, 37.8, 56.9]"
            ]
          },
          "metadata": {},
          "execution_count": 49
        }
      ]
    },
    {
      "cell_type": "code",
      "source": [
        "def prova():\n",
        "  resp_1 = input('Questão 1: ')\n",
        "  resp_2 = input('Questão 2: ')\n",
        "  resp_3 = input('Questão 3: ')\n",
        "  #resp_4 = input('Questão 4: ')\n",
        "  #resp_5 = input('Questão 5: ')\n",
        "  #resp_6 = input('Questão 6: ')\n",
        "  #resp_7 = input('Questão 7: ')\n",
        "  #resp_8 = input('Questão 8: ')\n",
        "  #resp_9 = input('Questão 9: ')\n",
        "  #resp_10 = input('Questão 10: ')\n",
        "  contador = 0\n",
        "  if resp_1 == 'D'\n",
        "    contador += 1\n",
        "  else:\n",
        "    if resp_2 == 'A':\n",
        "      contador += 1\n",
        "  print(f'Sua nota é {contador}')"
      ],
      "metadata": {
        "id": "2PEFfPdxd_Fk"
      },
      "execution_count": null,
      "outputs": []
    },
    {
      "cell_type": "code",
      "source": [
        "prova()"
      ],
      "metadata": {
        "colab": {
          "base_uri": "https://localhost:8080/"
        },
        "id": "dzGBHHkZgsOX",
        "outputId": "bcd94e5e-16e2-486b-85d2-5707b5234a2b"
      },
      "execution_count": null,
      "outputs": [
        {
          "output_type": "stream",
          "name": "stdout",
          "text": [
            "Questão 1: D\n",
            "Questão 2: A\n",
            "Questão 3: s\n",
            "Sua nota é 1\n"
          ]
        }
      ]
    },
    {
      "cell_type": "code",
      "source": [],
      "metadata": {
        "id": "jFIXa1B0gti2"
      },
      "execution_count": null,
      "outputs": []
    }
  ]
}